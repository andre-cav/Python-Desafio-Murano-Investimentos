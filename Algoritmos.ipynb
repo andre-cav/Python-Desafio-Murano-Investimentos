{
 "cells": [
  {
   "cell_type": "markdown",
   "metadata": {},
   "source": [
    "Algoritmo Merge Sort:"
   ]
  },
  {
   "cell_type": "code",
   "execution_count": 58,
   "metadata": {},
   "outputs": [],
   "source": [
    "def mergesort(lista):\n",
    "    tamanho = len(lista)\n",
    "    if tamanho >= 2:\n",
    "        meio = tamanho//2\n",
    "        esquerda = lista[:meio]\n",
    "        direita = lista[meio:]        \n",
    "        \n",
    "        mergesort(esquerda)\n",
    "        mergesort(direita)\n",
    "        juntar_ordenando(lista,esquerda,direita)"
   ]
  },
  {
   "cell_type": "code",
   "execution_count": 59,
   "metadata": {},
   "outputs": [],
   "source": [
    "def juntar_ordenando(lista,esquerda,direita):\n",
    " \n",
    "    tamanho_e = len(esquerda)-1\n",
    "    tamanho_d = len(direita)-1\n",
    "    \n",
    "    i = j = k = 0\n",
    "    \n",
    "    while k < len(lista):\n",
    "        if i > tamanho_e:\n",
    "            lista[k]=direita[j]\n",
    "            j+=1\n",
    "        elif j > tamanho_d:\n",
    "            lista[k] = esquerda[i]\n",
    "            i+=1\n",
    "        elif esquerda[i] > direita[j]:\n",
    "            lista[k] = direita[j]\n",
    "            j+=1\n",
    "        else:\n",
    "            lista[k] = esquerda[i]\n",
    "            i+=1\n",
    "        k+=1"
   ]
  },
  {
   "cell_type": "code",
   "execution_count": 60,
   "metadata": {},
   "outputs": [
    {
     "data": {
      "text/plain": [
       "[6, 8, 10, 20, 43, 87, 98]"
      ]
     },
     "execution_count": 60,
     "metadata": {},
     "output_type": "execute_result"
    }
   ],
   "source": [
    "lista = [43,6,8,10,87,98,20]\n",
    "\n",
    "mergesort(lista)\n",
    "lista"
   ]
  },
  {
   "cell_type": "markdown",
   "metadata": {},
   "source": [
    "Algoritmo Bubble Sort"
   ]
  },
  {
   "cell_type": "code",
   "execution_count": 67,
   "metadata": {},
   "outputs": [],
   "source": [
    "def bubblesort(lista):\n",
    "    tamanho = len(lista)-1\n",
    "    teste = 0\n",
    "    \n",
    "    while teste == 0:\n",
    "        teste , k = 1 , 0\n",
    "        \n",
    "        while k < tamanho:\n",
    "            if lista[k] > lista[k+1]:\n",
    "                lista[k] , lista[k+1] = lista[k+1] , lista[k]\n",
    "                teste = 0\n",
    "            k+=1"
   ]
  },
  {
   "cell_type": "code",
   "execution_count": 68,
   "metadata": {},
   "outputs": [
    {
     "data": {
      "text/plain": [
       "[6, 8, 10, 20, 43, 87, 98]"
      ]
     },
     "execution_count": 68,
     "metadata": {},
     "output_type": "execute_result"
    }
   ],
   "source": [
    "lista = [43,6,8,10,87,98,20]\n",
    "\n",
    "bubblesort(lista)\n",
    "lista"
   ]
  },
  {
   "cell_type": "code",
   "execution_count": null,
   "metadata": {},
   "outputs": [],
   "source": []
  }
 ],
 "metadata": {
  "kernelspec": {
   "display_name": "Python 3",
   "language": "python",
   "name": "python3"
  },
  "language_info": {
   "codemirror_mode": {
    "name": "ipython",
    "version": 3
   },
   "file_extension": ".py",
   "mimetype": "text/x-python",
   "name": "python",
   "nbconvert_exporter": "python",
   "pygments_lexer": "ipython3",
   "version": "3.7.6"
  }
 },
 "nbformat": 4,
 "nbformat_minor": 4
}
