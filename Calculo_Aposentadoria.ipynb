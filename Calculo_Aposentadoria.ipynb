{
 "cells": [
  {
   "cell_type": "code",
   "execution_count": 1,
   "metadata": {},
   "outputs": [
    {
     "name": "stdout",
     "output_type": "stream",
     "text": [
      "Insira a sua idade: 24\n"
     ]
    }
   ],
   "source": [
    "idade_atual = input('Insira a sua idade: ')"
   ]
  },
  {
   "cell_type": "code",
   "execution_count": 2,
   "metadata": {},
   "outputs": [
    {
     "name": "stdout",
     "output_type": "stream",
     "text": [
      "Insira o Patrimônio desejado para se aposentar: 3000000\n"
     ]
    }
   ],
   "source": [
    "patrimonio_desejado = float(input('Insira o Patrimônio desejado para se aposentar: '))\n"
   ]
  },
  {
   "cell_type": "code",
   "execution_count": 3,
   "metadata": {},
   "outputs": [
    {
     "name": "stdout",
     "output_type": "stream",
     "text": [
      "Insira a Rentabilidade ao ano dos seus Investimentos: Ex:Para 10% a.a. insira 10. 10.5\n"
     ]
    }
   ],
   "source": [
    "taxa = input('Insira a Rentabilidade ao ano dos seus Investimentos: Ex:Para 10% a.a. insira 10. ')\n",
    "taxa = float(taxa)/100"
   ]
  },
  {
   "cell_type": "code",
   "execution_count": 4,
   "metadata": {},
   "outputs": [
    {
     "data": {
      "text/plain": [
       "0.008355155683635207"
      ]
     },
     "execution_count": 4,
     "metadata": {},
     "output_type": "execute_result"
    }
   ],
   "source": [
    "taxa_mensal = ((1 + taxa)**(1/12))-1\n",
    "taxa_mensal"
   ]
  },
  {
   "cell_type": "code",
   "execution_count": 5,
   "metadata": {},
   "outputs": [
    {
     "name": "stdout",
     "output_type": "stream",
     "text": [
      "Insira a idade que você deseja se aposentar: 45\n"
     ]
    }
   ],
   "source": [
    "idade_aposentado = input('Insira a idade que você deseja se aposentar: ')"
   ]
  },
  {
   "cell_type": "code",
   "execution_count": 8,
   "metadata": {},
   "outputs": [],
   "source": [
    "delta_idade = int(idade_aposentado)-int(idade_atual)\n",
    "delta_meses = delta_idade*12"
   ]
  },
  {
   "cell_type": "code",
   "execution_count": 9,
   "metadata": {},
   "outputs": [],
   "source": [
    "aporte_mensal = patrimonio_desejado/((((1+taxa_mensal)**delta_meses)-1)/taxa_mensal)"
   ]
  },
  {
   "cell_type": "code",
   "execution_count": 13,
   "metadata": {},
   "outputs": [
    {
     "name": "stdout",
     "output_type": "stream",
     "text": [
      "Você deve aportar R$ 3510.72 por mês.\n"
     ]
    }
   ],
   "source": [
    "print('Você deve aportar R$ '+ str(round(aporte_mensal,2))+' por mês.')"
   ]
  }
 ],
 "metadata": {
  "kernelspec": {
   "display_name": "Python 3",
   "language": "python",
   "name": "python3"
  },
  "language_info": {
   "codemirror_mode": {
    "name": "ipython",
    "version": 3
   },
   "file_extension": ".py",
   "mimetype": "text/x-python",
   "name": "python",
   "nbconvert_exporter": "python",
   "pygments_lexer": "ipython3",
   "version": "3.7.6"
  }
 },
 "nbformat": 4,
 "nbformat_minor": 4
}
